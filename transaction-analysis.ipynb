{
 "metadata": {
  "name": "",
  "signature": "sha256:9d972ff9e1aa041b368eb48a22243a6b5e7ef65f8dce9b839f3c50223c6632d0"
 },
 "nbformat": 3,
 "nbformat_minor": 0,
 "worksheets": [
  {
   "cells": [
    {
     "cell_type": "code",
     "collapsed": false,
     "input": [
      "import sklearn\n",
      "import pandas as pd\n",
      "from pandas import DataFrame, Series\n",
      "\n",
      "txes_late_oct = pd.read_csv('../data/1414368000.txs', delim_whitespace=True)\n",
      "blocktxes_late_oct = pd.read_csv('../data/blocktxes', delim_whitespace=True)\n",
      "blocks_all = pd.read_csv('../data/blockdata', delim_whitespace=True)"
     ],
     "language": "python",
     "metadata": {},
     "outputs": [],
     "prompt_number": 39
    },
    {
     "cell_type": "code",
     "collapsed": false,
     "input": [
      "print 'txes:%s, blocktxes:%s, blocks:%s' % (txes_late_oct.shape, blocktxes_late_oct.shape, blocks_all.shape)\n",
      "\n",
      "print '='*30\n",
      "print 'txes_late_oct'\n",
      "print '='*30\n",
      "print txes_late_oct.head(n=2)\n",
      "\n",
      "print '='*30\n",
      "print 'blocktxes_late_oct'\n",
      "print '='*30\n",
      "print blocktxes_late_oct.head(n=2)\n",
      "\n",
      "print '='*30\n",
      "print 'blocks_all'\n",
      "print '='*30\n",
      "print blocks_all.head(n=2)"
     ],
     "language": "python",
     "metadata": {},
     "outputs": [
      {
       "output_type": "stream",
       "stream": "stdout",
       "text": [
        "txes:(701727, 45), blocktxes:(5299517, 2), blocks:(9001, 9)\n",
        "==============================\n",
        "txes\n",
        "==============================\n",
        "                                                hash  firstTimestamp  \\\n",
        "0  932eb5b40b3026bed68d9ebc145d715d9f45bf03de1b77...    1.414811e+09   \n",
        "1  acfb7d42af707372b438d1f33f1bbbcb8e74831c22bb8a...    1.414698e+09   \n",
        "\n",
        "   lastTimeStamp          peer1           peer2            peer3        peer4  \\\n",
        "0   1.414811e+09  54.69.232.231  162.248.161.60   75.156.127.189  77.200.7.76   \n",
        "1   1.414699e+09   98.202.20.45     54.92.46.69  188.226.151.196    67.3.67.5   \n",
        "\n",
        "            peer5         peer6           peer7    ...    0.100000 0.125000  \\\n",
        "0  162.221.184.76  76.19.122.34  54.210.218.134    ...           1        0   \n",
        "1   86.129.206.80  54.76.39.247    88.168.133.3    ...           1        0   \n",
        "\n",
        "  0.250000 0.500000 1.000000 2.000000 4.000000 8.000000 16.000000 32.000000  \n",
        "0        0        0        0        0        0        0         0        16  \n",
        "1        1        5      101     1727     1380     1236       745       298  \n",
        "\n",
        "[2 rows x 45 columns]\n",
        "==============================\n",
        "blocktxes\n",
        "==============================\n",
        "                                               block  \\\n",
        "0  0000000000000000051919e9e16378559223362ebf0ce1...   \n",
        "1  0000000000000000051919e9e16378559223362ebf0ce1...   \n",
        "\n",
        "                                                  tx  \n",
        "0  547a12efe7a3df8e38f689b974ed6eff5b71284477334c...  \n",
        "1  947ffb136dca0c2de094b43db4e4faebdcb5913b985837...  \n",
        "==============================\n",
        "blocks\n",
        "==============================\n",
        "                                               block  \\\n",
        "0  0000000000000000051919e9e16378559223362ebf0ce1...   \n",
        "1  00000000000000001c273fafdbff1381c32b60a836c026...   \n",
        "\n",
        "                                           prevBlock  \\\n",
        "0  000000000000000013f73492f14db36732cb603a6277ef...   \n",
        "1  0000000000000000051919e9e16378559223362ebf0ce1...   \n",
        "\n",
        "                                            mrklRoot        time       bits  \\\n",
        "0  65a82c83f6c9c248a6ee2c299fa5a00d9d684d6a9588d2...  1414280293  404655552   \n",
        "1  803e9839d8bdc41414bb2d3d39130dee06eb50b9153a4d...  1414281189  404655552   \n",
        "\n",
        "        nonce  height  numTx    size  \n",
        "0  2486991730  327000    230  125540  \n",
        "1   252171588  327001     32    9743  \n"
       ]
      }
     ],
     "prompt_number": 8
    },
    {
     "cell_type": "code",
     "collapsed": false,
     "input": [
      "# txes, blocktxes, blocks\n",
      "\n",
      "txes_in_blocks_late_oct = txes_late_oct['hash'].isin(blocktxes_late_oct['tx'])\n",
      "unique_blocks_late_oct = Series(blocktxes_late_oct['block'].unique())\n",
      "\n",
      "# print txes_in_blocks.head(n=3)\n",
      "# print unique_blocks.head(n=3)\n",
      "# print blocktxes['block'].head(n=3)\n",
      "\n",
      "print 'num txes since oct: %s' % blocktxes_late_oct.shape[0]\n",
      "print 'oct num txes not in block: %s, oct num txes: %s' % (txes_in_blocks_late_oct.shape[0] - txes_in_blocks_late_oct.sum(), txes_in_blocks_late_oct.shape[0])\n",
      "print 'num oct blocktxes not in blocks: %s' % (unique_blocks_late_oct.shape[0] - unique_blocks_late_oct.isin(blocks_all['block']).sum())\n",
      "\n",
      "unconfirmed = txes_late_oct['hash'][txes_in_blocks_late_oct == False]\n",
      "unconfirmed.to_csv('../data/unconfirmed.csv', index=False)"
     ],
     "language": "python",
     "metadata": {},
     "outputs": [
      {
       "output_type": "stream",
       "stream": "stdout",
       "text": [
        "num txes since oct: 5299517\n",
        "oct num txes not in block: 108357, oct num txes: 701727\n",
        "num oct blocktxes not in blocks: 0\n"
       ]
      }
     ],
     "prompt_number": 44
    },
    {
     "cell_type": "code",
     "collapsed": false,
     "input": [
      "only_txes_late_oct = txes_late_oct['hash']\n",
      "only_txes_late_oct.to_csv('../data/only_txes_late_oct.csv', index=False)"
     ],
     "language": "python",
     "metadata": {},
     "outputs": [],
     "prompt_number": 45
    },
    {
     "cell_type": "code",
     "collapsed": false,
     "input": [
      "print txes.columns\n",
      "\n",
      "# columns:\n",
      "# - peerN ==> ip_address:port that first informed us about the tx / block\n",
      "# - 0.1, 0.125, 0.25, 0.5, etc ==> the numbers of inventory messages we \n",
      "#                                  received for that hash within the first \n",
      "#                                  0.1 seconds, between 0.1-0.125 seconds, etc."
     ],
     "language": "python",
     "metadata": {},
     "outputs": []
    }
   ],
   "metadata": {}
  }
 ]
}