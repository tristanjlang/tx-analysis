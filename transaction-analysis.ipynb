{
 "metadata": {
  "name": "",
  "signature": "sha256:0b840e74f7e93a8aa59bf240453e6fd3f0c00ab026eff6822a3e287bc19145e7"
 },
 "nbformat": 3,
 "nbformat_minor": 0,
 "worksheets": [
  {
   "cells": [
    {
     "cell_type": "code",
     "collapsed": false,
     "input": [
      "import sklearn\n",
      "import pandas as pd\n",
      "from pandas import DataFrame\n",
      "\n",
      "df = pd.read_csv('../1414368000.txs', delim_whitespace=True)"
     ],
     "language": "python",
     "metadata": {},
     "outputs": [],
     "prompt_number": 1
    },
    {
     "cell_type": "code",
     "collapsed": false,
     "input": [
      "print df.shape\n",
      "print df.head(n=5)"
     ],
     "language": "python",
     "metadata": {},
     "outputs": [
      {
       "output_type": "stream",
       "stream": "stdout",
       "text": [
        "(701727, 45)\n",
        "                                                hash  firstTimestamp  \\\n",
        "0  932eb5b40b3026bed68d9ebc145d715d9f45bf03de1b77...    1.414811e+09   \n",
        "1  acfb7d42af707372b438d1f33f1bbbcb8e74831c22bb8a...    1.414698e+09   \n",
        "2  07d8fd5fc0528cd251d845f4b403894ad4195087fdf3c3...    1.414469e+09   \n",
        "3  1050e00ea0ced35b8eca849b76239adb328eb4e685560a...    1.414581e+09   \n",
        "4  053eace2a96eb5ed61166f2f716b8d2bfe41319c348a91...    1.414738e+09   \n",
        "\n",
        "   lastTimeStamp            peer1           peer2                 peer3  \\\n",
        "0   1.414811e+09    54.69.232.231  162.248.161.60        75.156.127.189   \n",
        "1   1.414699e+09     98.202.20.45     54.92.46.69       188.226.151.196   \n",
        "2   1.414470e+09   46.165.208.136   72.52.130.110        188.138.33.239   \n",
        "3   1.414583e+09    144.76.29.150      80.84.55.2  2a01:4f8:191:2095::2   \n",
        "4   1.414741e+09  162.251.152.108   121.99.51.220           37.143.4.27   \n",
        "\n",
        "             peer4                peer5          peer6           peer7  \\\n",
        "0      77.200.7.76       162.221.184.76   76.19.122.34  54.210.218.134   \n",
        "1        67.3.67.5        86.129.206.80   54.76.39.247    88.168.133.3   \n",
        "2  162.248.102.117  2001:470:88ff:2e::1   69.28.94.221    81.31.35.105   \n",
        "3  173.198.253.229          100.0.70.85  192.99.195.17   88.153.50.162   \n",
        "4   54.252.118.250        167.114.2.107   176.9.24.110  115.188.245.12   \n",
        "\n",
        "        ...       0.100000 0.125000 0.250000 0.500000 1.000000 2.000000  \\\n",
        "0       ...              1        0        0        0        0        0   \n",
        "1       ...              1        0        1        5      101     1727   \n",
        "2       ...             25       12       30      213      796      718   \n",
        "3       ...              2        9       50      133     1009     1032   \n",
        "4       ...              1        0        1        2      225     1651   \n",
        "\n",
        "  4.000000 8.000000 16.000000 32.000000  \n",
        "0        0        0         0        16  \n",
        "1     1380     1236       745       298  \n",
        "2      852      816       521       226  \n",
        "3     1081     1022       639       276  \n",
        "4     1258     1013       726       275  \n",
        "\n",
        "[5 rows x 45 columns]\n"
       ]
      }
     ],
     "prompt_number": 4
    },
    {
     "cell_type": "code",
     "collapsed": false,
     "input": [
      "print df.columns\n",
      "\n",
      "# columns:\n",
      "# - peerN ==> ip_address:port that first informed us about the tx / block\n",
      "# - 0.1, 0.125, 0.25, 0.5, etc ==> the numbers of inventory messages we \n",
      "#                                  received for that hash within the first \n",
      "#                                  0.1 seconds, between 0.1-0.125 seconds, etc."
     ],
     "language": "python",
     "metadata": {},
     "outputs": [
      {
       "output_type": "stream",
       "stream": "stdout",
       "text": [
        "Index([u'hash', u'firstTimestamp', u'lastTimeStamp', u'peer1', u'peer2', u'peer3', u'peer4', u'peer5', u'peer6', u'peer7', u'peer8', u'peer9', u'peer10', u'peer11', u'peer12', u'peer13', u'peer14', u'peer15', u'peer16', u'peer17', u'peer18', u'peer19', u'peer20', u'peer21', u'peer22', u'peer23', u'peer24', u'peer25', u'peer26', u'peer27', u'peer28', u'peer29', u'peer30', u'peer31', u'peer32', u'0.100000', u'0.125000', u'0.250000', u'0.500000', u'1.000000', u'2.000000', u'4.000000', u'8.000000', u'16.000000', u'32.000000'], dtype='object')\n"
       ]
      }
     ],
     "prompt_number": 5
    },
    {
     "cell_type": "code",
     "collapsed": false,
     "input": [
      "print df[['hash']].ix[0]"
     ],
     "language": "python",
     "metadata": {},
     "outputs": [
      {
       "output_type": "stream",
       "stream": "stdout",
       "text": [
        "hash    932eb5b40b3026bed68d9ebc145d715d9f45bf03de1b77...\n",
        "Name: 0, dtype: object\n"
       ]
      }
     ],
     "prompt_number": 4
    },
    {
     "cell_type": "code",
     "collapsed": false,
     "input": [],
     "language": "python",
     "metadata": {},
     "outputs": []
    }
   ],
   "metadata": {}
  }
 ]
}